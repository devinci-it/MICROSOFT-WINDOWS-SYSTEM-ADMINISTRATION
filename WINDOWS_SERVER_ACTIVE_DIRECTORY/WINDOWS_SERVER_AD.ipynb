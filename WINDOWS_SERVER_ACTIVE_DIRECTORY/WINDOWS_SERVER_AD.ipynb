{
 "cells": [
  {
   "cell_type": "markdown",
   "metadata": {},
   "source": [
    "# MCP_WINDOWS_SERVER_AD\n",
    "---\n",
    "## TABLE OF CONTENTS\n",
    "1.  #### [CREATING DOMAIN WITH ONE DOMAIN CONTROLLER]()\n",
    "2.  #### []()"
   ]
  },
  {
   "cell_type": "markdown",
   "metadata": {},
   "source": [
    "---\n",
    "### LAB 1 : CREATING A DOMAIN WITH A DOMAIN CONTROLLER\n",
    "---\n",
    "\n",
    "- [LAB MANUAL](/assets/manuals/adds/) [1]\n",
    "- [TOPOLOGY](/assets/manuals/adds/topology)\n",
    "- [PROCEDURE]()\n",
    "- [RESULTS - SREENSHOTS]()\n",
    "- [OVF]()"
   ]
  },
  {
   "cell_type": "markdown",
   "metadata": {},
   "source": [
    "#### EXERCISE 1\n",
    "---"
   ]
  },
  {
   "cell_type": "markdown",
   "metadata": {
    "notebookRunGroups": {
     "groupValue": "12"
    }
   },
   "source": [
    " ---\n",
    " [1] : YANG Seung, FALL2022. CIS_045_Fall_2022_W2008R2_Lab_14_Single_Domain_Tree   with_Parent_and_Child_Domains . PASADENA (CA): PASADENA CITY COLLEGE\n"
   ]
  },
  {
   "cell_type": "markdown",
   "metadata": {},
   "source": []
  }
 ],
 "metadata": {
  "kernelspec": {
   "display_name": "Python 3.10.7 64-bit (microsoft store)",
   "language": "python",
   "name": "python3"
  },
  "language_info": {
   "name": "python",
   "version": "3.10.7"
  },
  "orig_nbformat": 4,
  "vscode": {
   "interpreter": {
    "hash": "e0d398e7c3cc3d2b8386dfea47f5eae3378d5d39db7e2c8ef87e93246db0bfd2"
   }
  }
 },
 "nbformat": 4,
 "nbformat_minor": 2
}
